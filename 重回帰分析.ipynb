{
  "nbformat": 4,
  "nbformat_minor": 0,
  "metadata": {
    "colab": {
      "provenance": [],
      "mount_file_id": "17PauhOlthBptbWKHKoFNmcYX4APvCnLk",
      "authorship_tag": "ABX9TyPvkHiURl9GhIpEAgu/bzpz",
      "include_colab_link": true
    },
    "kernelspec": {
      "name": "python3",
      "display_name": "Python 3"
    },
    "language_info": {
      "name": "python"
    }
  },
  "cells": [
    {
      "cell_type": "markdown",
      "metadata": {
        "id": "view-in-github",
        "colab_type": "text"
      },
      "source": [
        "<a href=\"https://colab.research.google.com/github/o-rma/ML-FLASK-Pythonanywhere/blob/master/%E9%87%8D%E5%9B%9E%E5%B8%B0%E5%88%86%E6%9E%90.ipynb\" target=\"_parent\"><img src=\"https://colab.research.google.com/assets/colab-badge.svg\" alt=\"Open In Colab\"/></a>"
      ]
    },
    {
      "cell_type": "code",
      "source": [
        "!apt-get -y install fonts-ipafont-gothic\n",
        "import matplotlib.pyplot as plt\n",
        "import matplotlib.font_manager as fm"
      ],
      "metadata": {
        "id": "fEqEGU1vm8N6",
        "outputId": "d3370c86-8e3b-4973-aaf0-750986503364",
        "colab": {
          "base_uri": "https://localhost:8080/"
        }
      },
      "execution_count": 1,
      "outputs": [
        {
          "output_type": "stream",
          "name": "stdout",
          "text": [
            "Reading package lists... Done\n",
            "Building dependency tree... Done\n",
            "Reading state information... Done\n",
            "The following additional packages will be installed:\n",
            "  fonts-ipafont-mincho\n",
            "The following NEW packages will be installed:\n",
            "  fonts-ipafont-gothic fonts-ipafont-mincho\n",
            "0 upgraded, 2 newly installed, 0 to remove and 34 not upgraded.\n",
            "Need to get 8,237 kB of archives.\n",
            "After this operation, 28.7 MB of additional disk space will be used.\n",
            "Get:1 http://archive.ubuntu.com/ubuntu jammy/universe amd64 fonts-ipafont-gothic all 00303-21ubuntu1 [3,513 kB]\n",
            "Get:2 http://archive.ubuntu.com/ubuntu jammy/universe amd64 fonts-ipafont-mincho all 00303-21ubuntu1 [4,724 kB]\n",
            "Fetched 8,237 kB in 1s (14.1 MB/s)\n",
            "Selecting previously unselected package fonts-ipafont-gothic.\n",
            "(Reading database ... 126102 files and directories currently installed.)\n",
            "Preparing to unpack .../fonts-ipafont-gothic_00303-21ubuntu1_all.deb ...\n",
            "Unpacking fonts-ipafont-gothic (00303-21ubuntu1) ...\n",
            "Selecting previously unselected package fonts-ipafont-mincho.\n",
            "Preparing to unpack .../fonts-ipafont-mincho_00303-21ubuntu1_all.deb ...\n",
            "Unpacking fonts-ipafont-mincho (00303-21ubuntu1) ...\n",
            "Setting up fonts-ipafont-mincho (00303-21ubuntu1) ...\n",
            "update-alternatives: using /usr/share/fonts/opentype/ipafont-mincho/ipam.ttf to provide /usr/share/fonts/truetype/fonts-japanese-mincho.ttf (fonts-japanese-mincho.ttf) in auto mode\n",
            "Setting up fonts-ipafont-gothic (00303-21ubuntu1) ...\n",
            "update-alternatives: using /usr/share/fonts/opentype/ipafont-gothic/ipag.ttf to provide /usr/share/fonts/truetype/fonts-japanese-gothic.ttf (fonts-japanese-gothic.ttf) in auto mode\n",
            "Processing triggers for fontconfig (2.13.1-4.2ubuntu5) ...\n"
          ]
        }
      ]
    },
    {
      "cell_type": "code",
      "source": [
        "\n",
        "\n",
        "import matplotlib.font_manager as fm\n",
        "\n",
        "# すべての TTF フォントの中から日本語フォントっぽい名前を表示\n",
        "font_paths = fm.findSystemFonts(fontpaths=None, fontext='ttf')\n",
        "\n",
        "print(\"=== 利用可能な日本語フォント名 ===\")\n",
        "for path in font_paths:\n",
        "    try:\n",
        "        font = fm.FontProperties(fname=path)\n",
        "        name = font.get_name()\n",
        "        if \"IPA\" in name or \"Gothic\" in name or \"Noto\" in name or \"Hiragino\" in name or \"Yu\" in name:\n",
        "            print(name)\n",
        "    except Exception:\n",
        "        continue\n"
      ],
      "metadata": {
        "colab": {
          "base_uri": "https://localhost:8080/"
        },
        "id": "myB93QyxftBh",
        "outputId": "72509bf9-4ddc-470e-ce5f-59fd4b4f1d6f"
      },
      "execution_count": 2,
      "outputs": [
        {
          "output_type": "stream",
          "name": "stdout",
          "text": [
            "=== 利用可能な日本語フォント名 ===\n",
            "IPAMincho\n",
            "IPAGothic\n",
            "IPAGothic\n",
            "IPAMincho\n",
            "IPAPMincho\n",
            "IPAPGothic\n"
          ]
        }
      ]
    },
    {
      "cell_type": "code",
      "source": [
        "import matplotlib.font_manager as fm\n",
        "\n",
        "# 使用したいフォント名に合わせて filter\n",
        "target_font_name = \"IPAGothic\"  # ご自身の環境で見つかった名前に変更\n",
        "font_path = None\n",
        "\n",
        "for font in fm.findSystemFonts(fontpaths=None, fontext='ttf'):\n",
        "    try:\n",
        "        if fm.FontProperties(fname=font).get_name() == target_font_name:\n",
        "            font_path = font\n",
        "            break\n",
        "    except Exception:\n",
        "        continue\n",
        "\n",
        "print(\"使用するフォントパス:\", font_path)\n"
      ],
      "metadata": {
        "colab": {
          "base_uri": "https://localhost:8080/"
        },
        "id": "75ZsJNkBnSV2",
        "outputId": "fe52622a-3e1f-4bdb-aea8-e5cd03cf4507"
      },
      "execution_count": 3,
      "outputs": [
        {
          "output_type": "stream",
          "name": "stdout",
          "text": [
            "使用するフォントパス: /usr/share/fonts/truetype/fonts-japanese-gothic.ttf\n"
          ]
        }
      ]
    },
    {
      "cell_type": "code",
      "source": [
        "import pandas as pd\n",
        "import glob\n",
        "from sklearn.linear_model import LinearRegression\n",
        "from google.colab import drive, files\n",
        "import shutil\n",
        "import os\n",
        "\n",
        "# 1. Google Drive をマウント\n",
        "drive.mount('/content/drive')\n",
        "\n",
        "# データフォルダ内のすべてのExcelファイルを読み込む\n",
        "file_paths = glob.glob(\"/content/drive/MyDrive/気象データと熱中症件数まとめ/*.xlsx\")  # パスはあなたの環境に合わせて変更\n",
        "\n",
        "data_list = []\n",
        "\n",
        "for path in file_paths:\n",
        "    try:\n",
        "        df = pd.read_excel(path, sheet_name=\"Sheet1\")  # シート名が統一されている前提\n",
        "        df[\"都道府県\"] = path.split(\"/\")[-1].replace(\".xlsx\", \"\")  # ファイル名から都道府県を取得\n",
        "        data_list.append(df)\n",
        "    except Exception as e:\n",
        "        print(f\"{path} の読み込みでエラー: {e}\")\n",
        "\n",
        "# 全ファイル分のデータを結合\n",
        "all_data = pd.concat(data_list, ignore_index=True)\n",
        "\n",
        "# 数値変換（エラーは NaN に）\n",
        "all_data[\"平均気温\"] = pd.to_numeric(all_data[\"平均気温\"], errors=\"coerce\")\n",
        "all_data[\"平均湿度\"] = pd.to_numeric(all_data[\"平均湿度\"], errors=\"coerce\")\n",
        "all_data[\"件数\"] = pd.to_numeric(all_data[\"件数\"], errors=\"coerce\")\n",
        "\n",
        "# 欠損値の除去\n",
        "df_clean = all_data.dropna(subset=[\"平均気温\", \"平均湿度\", \"件数\"])\n",
        "\n",
        "# 重回帰分析（全国データで）\n",
        "X = df_clean[[\"平均気温\", \"平均湿度\"]]\n",
        "y = df_clean[\"件数\"]\n",
        "\n",
        "model = LinearRegression()\n",
        "model.fit(X, y)\n",
        "\n",
        "# 結果の出力\n",
        "coef = model.coef_\n",
        "intercept = model.intercept_\n",
        "\n",
        "print(\"=== 全国47都道府県のデータを使った重回帰分析結果 ===\")\n",
        "print(f\"回帰係数: 平均気温 = {coef[0]:.2f}, 平均湿度 = {coef[1]:.2f}\")\n",
        "print(f\"切片: {intercept:.2f}\")\n",
        "print(f\"重回帰式: 熱中症件数 = {coef[0]:.2f} * 平均気温 + {coef[1]:.2f} * 平均湿度 + {intercept:.2f}\")\n",
        "r2 = model.score(X, y)\n",
        "print(f\"決定係数 R²: {r2:.4f}\")"
      ],
      "metadata": {
        "colab": {
          "base_uri": "https://localhost:8080/"
        },
        "id": "V3FtllJ0imua",
        "outputId": "ed5ac325-2ef0-46a6-9fef-092ec6f369d8"
      },
      "execution_count": 4,
      "outputs": [
        {
          "output_type": "stream",
          "name": "stdout",
          "text": [
            "Mounted at /content/drive\n",
            "=== 全国47都道府県のデータを使った重回帰分析結果 ===\n",
            "回帰係数: 平均気温 = 2.65, 平均湿度 = -0.11\n",
            "切片: -47.70\n",
            "重回帰式: 熱中症件数 = 2.65 * 平均気温 + -0.11 * 平均湿度 + -47.70\n",
            "決定係数 R²: 0.2068\n"
          ]
        }
      ]
    },
    {
      "cell_type": "code",
      "source": [
        "import pandas as pd\n",
        "import numpy as np\n",
        "from sklearn.linear_model import LinearRegression\n",
        "\n",
        "# データの読み込み（既に df_clean に前処理済みと仮定）\n",
        "# 例：df_clean = pd.read_excel(...)\n",
        "\n",
        "# 説明変数と目的変数\n",
        "X = df_clean[[\"平均気温\", \"平均湿度\"]]\n",
        "y = df_clean[\"件数\"]\n",
        "\n",
        "# モデルの学習\n",
        "model = LinearRegression()\n",
        "model.fit(X, y)\n",
        "\n",
        "# 予測値\n",
        "y_pred = model.predict(X)\n",
        "\n",
        "# 回帰係数と切片\n",
        "print(\"回帰係数:\", model.coef_)\n",
        "print(\"切片:\", model.intercept_)\n",
        "print(f\"重回帰式: 件数 = {model.coef_[0]:.2f} * 平均気温 + {model.coef_[1]:.2f} * 平均湿度 + {model.intercept_:.2f}\")\n",
        "\n",
        "# 決定係数（R²）\n",
        "r2 = model.score(X, y)\n",
        "print(f\"決定係数 R²: {r2:.4f}\")\n",
        "\n",
        "# 相関係数\n",
        "corr = np.corrcoef(y, y_pred)[0, 1]\n",
        "print(f\"相関係数: {corr:.4f}\")\n"
      ],
      "metadata": {
        "colab": {
          "base_uri": "https://localhost:8080/"
        },
        "id": "snZwx7c2lvQR",
        "outputId": "813a565e-5d5d-45c1-91e3-a40b19b83ec9"
      },
      "execution_count": 5,
      "outputs": [
        {
          "output_type": "stream",
          "name": "stdout",
          "text": [
            "回帰係数: [ 2.6508536  -0.11317862]\n",
            "切片: -47.69503752096871\n",
            "重回帰式: 件数 = 2.65 * 平均気温 + -0.11 * 平均湿度 + -47.70\n",
            "決定係数 R²: 0.2068\n",
            "相関係数: 0.4548\n"
          ]
        }
      ]
    },
    {
      "cell_type": "code",
      "source": [
        "import pandas as pd\n",
        "import numpy as np\n",
        "import os\n",
        "from sklearn.linear_model import LinearRegression\n",
        "\n",
        "# フォルダパスを指定（必要に応じて変更）\n",
        "folder_path = \"/content/drive/MyDrive/気象データと熱中症件数まとめ\"  # 各都道府県のExcelファイルが入っているフォルダ\n",
        "\n",
        "# 都道府県名リスト（47都道府県）\n",
        "prefectures = [\n",
        "    \"北海道\", \"青森県\", \"岩手県\", \"宮城県\", \"秋田県\", \"山形県\", \"福島県\",\n",
        "    \"茨城県\", \"栃木県\", \"群馬県\", \"埼玉県\", \"千葉県\", \"東京都\", \"神奈川県\",\n",
        "    \"新潟県\", \"富山県\", \"石川県\", \"福井県\", \"山梨県\", \"長野県\",\n",
        "    \"岐阜県\", \"静岡県\", \"愛知県\", \"三重県\",\n",
        "    \"滋賀県\", \"京都府\", \"大阪府\", \"兵庫県\", \"奈良県\", \"和歌山県\",\n",
        "    \"鳥取県\", \"島根県\", \"岡山県\", \"広島県\", \"山口県\",\n",
        "    \"徳島県\", \"香川県\", \"愛媛県\", \"高知県\",\n",
        "    \"福岡県\", \"佐賀県\", \"長崎県\", \"熊本県\", \"大分県\", \"宮崎県\", \"鹿児島県\", \"沖縄県\"\n",
        "]\n",
        "\n",
        "# 結果を格納するリスト\n",
        "results = []\n",
        "\n",
        "# 各ファイルに対して処理\n",
        "for pref in prefectures:\n",
        "    filename = f\"{pref}_気象データ.xlsx\"\n",
        "    file_path = os.path.join(folder_path, filename)\n",
        "\n",
        "    try:\n",
        "        # データ読み込み\n",
        "        df = pd.read_excel(file_path)\n",
        "        df[\"平均気温\"] = pd.to_numeric(df[\"平均気温\"], errors=\"coerce\")\n",
        "        df[\"平均湿度\"] = pd.to_numeric(df[\"平均湿度\"], errors=\"coerce\")\n",
        "        df[\"件数\"] = pd.to_numeric(df[\"件数\"], errors=\"coerce\")\n",
        "        df_clean = df.dropna(subset=[\"平均気温\", \"平均湿度\", \"件数\"])\n",
        "\n",
        "        if len(df_clean) < 3:\n",
        "            print(f\"{pref}: データ不足のためスキップ\")\n",
        "            continue\n",
        "\n",
        "        # 回帰分析\n",
        "        X = df_clean[[\"平均気温\", \"平均湿度\"]]\n",
        "        y = df_clean[\"件数\"]\n",
        "        model = LinearRegression()\n",
        "        model.fit(X, y)\n",
        "        y_pred = model.predict(X)\n",
        "\n",
        "        # 結果の保存\n",
        "        r2 = model.score(X, y)\n",
        "        corr = np.corrcoef(y, y_pred)[0, 1]\n",
        "\n",
        "        results.append({\n",
        "            \"都道府県\": pref,\n",
        "            \"回帰係数_気温\": model.coef_[0],\n",
        "            \"回帰係数_湿度\": model.coef_[1],\n",
        "            \"切片\": model.intercept_,\n",
        "            \"決定係数_R2\": r2,\n",
        "            \"相関係数\": corr\n",
        "        })\n",
        "\n",
        "    except Exception as e:\n",
        "        print(f\"{pref}: エラーが発生しました → {e}\")\n",
        "\n",
        "# 結果の出力\n",
        "results_df = pd.DataFrame(results)\n",
        "print(results_df)\n",
        "\n",
        "# CSVファイルに保存（任意）\n",
        "results_df.to_csv(\"都道府県別_重回帰分析結果.csv\", index=False)\n"
      ],
      "metadata": {
        "colab": {
          "base_uri": "https://localhost:8080/"
        },
        "id": "TW9gXYcXkMft",
        "outputId": "419c9059-8d05-46c4-bffd-84ad5eab4d9c"
      },
      "execution_count": 8,
      "outputs": [
        {
          "output_type": "stream",
          "name": "stdout",
          "text": [
            "    都道府県    回帰係数_気温   回帰係数_湿度          切片   決定係数_R2      相関係数\n",
            "0    北海道   3.313356 -0.131714  -48.650326  0.366074  0.605041\n",
            "1    青森県   1.216261 -0.037108  -19.665152  0.386357  0.621577\n",
            "2    岩手県   1.392076 -0.118730  -16.668310  0.473638  0.688213\n",
            "3    宮城県   2.736194 -0.167437  -41.146909  0.500421  0.707404\n",
            "4    秋田県   1.276255 -0.088841  -18.610034  0.449466  0.670422\n",
            "5    山形県   1.251912 -0.076414  -19.216532  0.448019  0.669342\n",
            "6    福島県   2.395279 -0.093863  -41.306414  0.511792  0.715396\n",
            "7    茨城県   3.534626 -0.308635  -47.267941  0.504806  0.710497\n",
            "8    栃木県   2.279429 -0.130281  -37.652941  0.500115  0.707188\n",
            "9    群馬県   2.764569 -0.097231  -53.062351  0.521741  0.722317\n",
            "10   埼玉県   8.678415 -0.543810 -131.233206  0.545871  0.738831\n",
            "11   千葉県   6.503019 -0.009661 -132.783751  0.344061  0.586567\n",
            "12   東京都  11.609893 -0.061013 -252.271828  0.458506  0.677131\n",
            "13  神奈川県   7.014560 -0.280554 -131.747050  0.486538  0.697523\n",
            "14   新潟県   2.931117 -0.210293  -45.580466  0.557387  0.746584\n",
            "15   富山県   1.004528 -0.059720  -16.914301  0.486435  0.697449\n",
            "16   石川県   1.279154 -0.109124  -19.642307  0.508855  0.713341\n",
            "17   福井県   0.844226 -0.051372  -14.406968  0.473589  0.688178\n",
            "18   山梨県   1.048770 -0.039837  -20.217583  0.435164  0.659670\n",
            "19   長野県   1.793191 -0.076839  -29.472287  0.424087  0.651220\n",
            "20   岐阜県   2.803538 -0.137090  -55.039269  0.497965  0.705667\n",
            "21   静岡県   3.964089 -0.068164  -83.748944  0.446739  0.668386\n",
            "22   愛知県   9.649881 -0.433454 -190.585765  0.538902  0.734100\n",
            "23   三重県   2.701220 -0.131114  -51.914481  0.475620  0.689652\n",
            "24   滋賀県   1.562064 -0.107006  -26.070025  0.452587  0.672746\n",
            "25   京都府   3.662661 -0.263450  -66.192471  0.546428  0.739208\n",
            "26   大阪府   9.932258 -0.259258 -212.933399  0.505356  0.710884\n",
            "27   兵庫県   7.079970 -0.092620 -157.583960  0.486281  0.697339\n",
            "28   奈良県   1.826458 -0.123897  -30.481426  0.503782  0.709776\n",
            "29  和歌山県   1.494978 -0.037393  -31.244399  0.460717  0.678762\n",
            "30   鳥取県   0.841355 -0.054033  -13.903594  0.480948  0.693504\n",
            "31   島根県   0.882556 -0.060963  -13.954549  0.468495  0.684467\n",
            "32   岡山県   2.949415 -0.082186  -60.049004  0.506918  0.711981\n",
            "33   広島県   3.320170 -0.169025  -63.823835  0.532030  0.729404\n",
            "34   山口県   1.617834 -0.083361  -29.657283  0.515404  0.717916\n",
            "35   徳島県   1.069284 -0.010684  -23.381542  0.444207  0.666488\n",
            "36   香川県   1.344366 -0.038894  -27.886063  0.502695  0.709010\n",
            "37   愛媛県   1.835226 -0.041206  -38.108993  0.502550  0.708907\n",
            "38   高知県   1.246130 -0.050011  -24.473326  0.444989  0.667075\n",
            "39   福岡県   5.554914 -0.121218 -118.396563  0.528732  0.727140\n",
            "40   佐賀県   1.312670 -0.062378  -25.537023  0.494935  0.703516\n",
            "41   長崎県   1.911517 -0.055814  -39.120450  0.511028  0.714863\n",
            "42   熊本県   2.872350 -0.031301  -63.828666  0.487659  0.698326\n",
            "43   大分県   1.621344 -0.017987  -34.369511  0.469944  0.685525\n",
            "44   宮崎県   1.464763 -0.088009  -25.366898  0.423436  0.650720\n",
            "45  鹿児島県   2.668780  0.025532  -64.545193  0.431639  0.656992\n",
            "46   沖縄県   2.676907  0.089193  -76.706686  0.352173  0.593442\n"
          ]
        }
      ]
    },
    {
      "cell_type": "code",
      "source": [
        "import pandas as pd\n",
        "import numpy as np\n",
        "import os\n",
        "from sklearn.linear_model import LinearRegression\n",
        "\n",
        "# Google Drive のマウント先ディレクトリ\n",
        "folder_path = \"/content/drive/MyDrive/気象データと熱中症件数まとめ\"  # ここに各都道府県のExcelファイルがあると仮定\n",
        "\n",
        "# 出力先ファイルパス\n",
        "output_path = \"/content/drive/MyDrive/都道府県別_重回帰分析結果.csv\"\n",
        "\n",
        "# 都道府県名リスト\n",
        "prefectures = [\n",
        "    \"北海道\", \"青森県\", \"岩手県\", \"宮城県\", \"秋田県\", \"山形県\", \"福島県\",\n",
        "    \"茨城県\", \"栃木県\", \"群馬県\", \"埼玉県\", \"千葉県\", \"東京都\", \"神奈川県\",\n",
        "    \"新潟県\", \"富山県\", \"石川県\", \"福井県\", \"山梨県\", \"長野県\",\n",
        "    \"岐阜県\", \"静岡県\", \"愛知県\", \"三重県\",\n",
        "    \"滋賀県\", \"京都府\", \"大阪府\", \"兵庫県\", \"奈良県\", \"和歌山県\",\n",
        "    \"鳥取県\", \"島根県\", \"岡山県\", \"広島県\", \"山口県\",\n",
        "    \"徳島県\", \"香川県\", \"愛媛県\", \"高知県\",\n",
        "    \"福岡県\", \"佐賀県\", \"長崎県\", \"熊本県\", \"大分県\", \"宮崎県\", \"鹿児島県\", \"沖縄県\"\n",
        "]\n",
        "\n",
        "results = []\n",
        "\n",
        "for pref in prefectures:\n",
        "    filename = f\"{pref}_気象データ.xlsx\"\n",
        "    file_path = os.path.join(folder_path, filename)\n",
        "\n",
        "    try:\n",
        "        df = pd.read_excel(file_path)\n",
        "        df[\"平均気温\"] = pd.to_numeric(df[\"平均気温\"], errors=\"coerce\")\n",
        "        df[\"平均湿度\"] = pd.to_numeric(df[\"平均湿度\"], errors=\"coerce\")\n",
        "        df[\"件数\"] = pd.to_numeric(df[\"件数\"], errors=\"coerce\")\n",
        "        df_clean = df.dropna(subset=[\"平均気温\", \"平均湿度\", \"件数\"])\n",
        "\n",
        "        if len(df_clean) < 3:\n",
        "            print(f\"{pref}: データ不足のためスキップ\")\n",
        "            continue\n",
        "\n",
        "        X = df_clean[[\"平均気温\", \"平均湿度\"]]\n",
        "        y = df_clean[\"件数\"]\n",
        "        model = LinearRegression()\n",
        "        model.fit(X, y)\n",
        "        y_pred = model.predict(X)\n",
        "\n",
        "        r2 = model.score(X, y)\n",
        "        corr = np.corrcoef(y, y_pred)[0, 1]\n",
        "\n",
        "        results.append({\n",
        "            \"都道府県\": pref,\n",
        "            \"回帰係数_気温\": model.coef_[0],\n",
        "            \"回帰係数_湿度\": model.coef_[1],\n",
        "            \"切片\": model.intercept_,\n",
        "            \"決定係数_R2\": r2,\n",
        "            \"相関係数\": corr\n",
        "        })\n",
        "\n",
        "    except Exception as e:\n",
        "        print(f\"{pref}: エラーが発生しました → {e}\")\n",
        "\n",
        "# 結果をDataFrameにして保存\n",
        "results_df = pd.DataFrame(results)\n",
        "results_df.to_csv(output_path, index=False, encoding=\"utf-8-sig\")  # Excel互換の文字コードで保存\n",
        "\n",
        "print(\"分析結果を保存しました:\", output_path)\n"
      ],
      "metadata": {
        "colab": {
          "base_uri": "https://localhost:8080/"
        },
        "id": "B6RH166Oqz3w",
        "outputId": "4171beb1-9bac-4481-fbe2-7bbe196c11b8"
      },
      "execution_count": 9,
      "outputs": [
        {
          "output_type": "stream",
          "name": "stdout",
          "text": [
            "分析結果を保存しました: /content/drive/MyDrive/都道府県別_重回帰分析結果.csv\n"
          ]
        }
      ]
    }
  ]
}